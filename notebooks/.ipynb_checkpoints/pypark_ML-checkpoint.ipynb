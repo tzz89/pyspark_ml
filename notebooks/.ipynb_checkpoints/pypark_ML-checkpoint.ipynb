{
 "cells": [
  {
   "cell_type": "code",
   "execution_count": 3,
   "id": "3dd24c90",
   "metadata": {},
   "outputs": [],
   "source": [
    "## Find spark\n",
    "import findspark\n",
    "findspark.init()\n",
    "\n",
    "#pyspark libraries\n",
    "from pyspark.sql import SparkSession\n",
    "\n",
    "#python\n",
    "import os"
   ]
  },
  {
   "cell_type": "markdown",
   "id": "8547d8b4",
   "metadata": {},
   "source": [
    "## Creating the session and loading the data"
   ]
  },
  {
   "cell_type": "code",
   "execution_count": 4,
   "id": "16f8f7d6",
   "metadata": {},
   "outputs": [],
   "source": [
    "session = SparkSession.builder.appName(\"test\").getOrCreate()"
   ]
  },
  {
   "cell_type": "code",
   "execution_count": null,
   "id": "10cda0f9",
   "metadata": {},
   "outputs": [],
   "source": []
  }
 ],
 "metadata": {
  "kernelspec": {
   "display_name": "Python 3",
   "language": "python",
   "name": "python3"
  },
  "language_info": {
   "codemirror_mode": {
    "name": "ipython",
    "version": 3
   },
   "file_extension": ".py",
   "mimetype": "text/x-python",
   "name": "python",
   "nbconvert_exporter": "python",
   "pygments_lexer": "ipython3",
   "version": "3.7.6"
  },
  "varInspector": {
   "cols": {
    "lenName": 16,
    "lenType": 16,
    "lenVar": 40
   },
   "kernels_config": {
    "python": {
     "delete_cmd_postfix": "",
     "delete_cmd_prefix": "del ",
     "library": "var_list.py",
     "varRefreshCmd": "print(var_dic_list())"
    },
    "r": {
     "delete_cmd_postfix": ") ",
     "delete_cmd_prefix": "rm(",
     "library": "var_list.r",
     "varRefreshCmd": "cat(var_dic_list()) "
    }
   },
   "types_to_exclude": [
    "module",
    "function",
    "builtin_function_or_method",
    "instance",
    "_Feature"
   ],
   "window_display": false
  }
 },
 "nbformat": 4,
 "nbformat_minor": 5
}
